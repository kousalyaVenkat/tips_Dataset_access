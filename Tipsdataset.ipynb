{
  "nbformat": 4,
  "nbformat_minor": 0,
  "metadata": {
    "colab": {
      "provenance": []
    },
    "kernelspec": {
      "name": "python3",
      "display_name": "Python 3"
    },
    "language_info": {
      "name": "python"
    }
  },
  "cells": [
    {
      "cell_type": "code",
      "execution_count": null,
      "metadata": {
        "id": "lcLqwpv4IVLC"
      },
      "outputs": [],
      "source": [
        "import pandas as pd\n",
        "import numpy as np\n",
        "import matplotlib.pyplot as plt\n",
        "import seaborn as sns\n",
        "from pandas import Series, DataFrame"
      ]
    },
    {
      "cell_type": "code",
      "source": [
        "df1=pd.read_csv(\"tips.csv\")"
      ],
      "metadata": {
        "id": "sQHHN2lsJTtj"
      },
      "execution_count": null,
      "outputs": []
    },
    {
      "cell_type": "code",
      "source": [
        "df1.head()"
      ],
      "metadata": {
        "colab": {
          "base_uri": "https://localhost:8080/",
          "height": 206
        },
        "id": "3tE1sPDtJgWR",
        "outputId": "d97fa96a-164b-4edd-d3bf-153fec81e53c"
      },
      "execution_count": null,
      "outputs": [
        {
          "output_type": "execute_result",
          "data": {
            "text/plain": [
              "   total_bill   tip     sex smoker  day    time  size  price_per_person  \\\n",
              "0       16.99  1.01  Female     No  Sun  Dinner     2              8.49   \n",
              "1       10.34  1.66    Male     No  Sun  Dinner     3              3.45   \n",
              "2       21.01  3.50    Male     No  Sun  Dinner     3              7.00   \n",
              "3       23.68  3.31    Male     No  Sun  Dinner     2             11.84   \n",
              "4       24.59  3.61  Female     No  Sun  Dinner     4              6.15   \n",
              "\n",
              "           Payer Name         CC Number Payment ID  \n",
              "0  Christy Cunningham  3560325168603410    Sun2959  \n",
              "1      Douglas Tucker  4478071379779230    Sun4608  \n",
              "2      Travis Walters  6011812112971322    Sun4458  \n",
              "3    Nathaniel Harris  4676137647685994    Sun5260  \n",
              "4        Tonya Carter  4832732618637221    Sun2251  "
            ],
            "text/html": [
              "\n",
              "  <div id=\"df-9e22f4bd-9d37-4284-bd57-8752b1f6fdbf\">\n",
              "    <div class=\"colab-df-container\">\n",
              "      <div>\n",
              "<style scoped>\n",
              "    .dataframe tbody tr th:only-of-type {\n",
              "        vertical-align: middle;\n",
              "    }\n",
              "\n",
              "    .dataframe tbody tr th {\n",
              "        vertical-align: top;\n",
              "    }\n",
              "\n",
              "    .dataframe thead th {\n",
              "        text-align: right;\n",
              "    }\n",
              "</style>\n",
              "<table border=\"1\" class=\"dataframe\">\n",
              "  <thead>\n",
              "    <tr style=\"text-align: right;\">\n",
              "      <th></th>\n",
              "      <th>total_bill</th>\n",
              "      <th>tip</th>\n",
              "      <th>sex</th>\n",
              "      <th>smoker</th>\n",
              "      <th>day</th>\n",
              "      <th>time</th>\n",
              "      <th>size</th>\n",
              "      <th>price_per_person</th>\n",
              "      <th>Payer Name</th>\n",
              "      <th>CC Number</th>\n",
              "      <th>Payment ID</th>\n",
              "    </tr>\n",
              "  </thead>\n",
              "  <tbody>\n",
              "    <tr>\n",
              "      <th>0</th>\n",
              "      <td>16.99</td>\n",
              "      <td>1.01</td>\n",
              "      <td>Female</td>\n",
              "      <td>No</td>\n",
              "      <td>Sun</td>\n",
              "      <td>Dinner</td>\n",
              "      <td>2</td>\n",
              "      <td>8.49</td>\n",
              "      <td>Christy Cunningham</td>\n",
              "      <td>3560325168603410</td>\n",
              "      <td>Sun2959</td>\n",
              "    </tr>\n",
              "    <tr>\n",
              "      <th>1</th>\n",
              "      <td>10.34</td>\n",
              "      <td>1.66</td>\n",
              "      <td>Male</td>\n",
              "      <td>No</td>\n",
              "      <td>Sun</td>\n",
              "      <td>Dinner</td>\n",
              "      <td>3</td>\n",
              "      <td>3.45</td>\n",
              "      <td>Douglas Tucker</td>\n",
              "      <td>4478071379779230</td>\n",
              "      <td>Sun4608</td>\n",
              "    </tr>\n",
              "    <tr>\n",
              "      <th>2</th>\n",
              "      <td>21.01</td>\n",
              "      <td>3.50</td>\n",
              "      <td>Male</td>\n",
              "      <td>No</td>\n",
              "      <td>Sun</td>\n",
              "      <td>Dinner</td>\n",
              "      <td>3</td>\n",
              "      <td>7.00</td>\n",
              "      <td>Travis Walters</td>\n",
              "      <td>6011812112971322</td>\n",
              "      <td>Sun4458</td>\n",
              "    </tr>\n",
              "    <tr>\n",
              "      <th>3</th>\n",
              "      <td>23.68</td>\n",
              "      <td>3.31</td>\n",
              "      <td>Male</td>\n",
              "      <td>No</td>\n",
              "      <td>Sun</td>\n",
              "      <td>Dinner</td>\n",
              "      <td>2</td>\n",
              "      <td>11.84</td>\n",
              "      <td>Nathaniel Harris</td>\n",
              "      <td>4676137647685994</td>\n",
              "      <td>Sun5260</td>\n",
              "    </tr>\n",
              "    <tr>\n",
              "      <th>4</th>\n",
              "      <td>24.59</td>\n",
              "      <td>3.61</td>\n",
              "      <td>Female</td>\n",
              "      <td>No</td>\n",
              "      <td>Sun</td>\n",
              "      <td>Dinner</td>\n",
              "      <td>4</td>\n",
              "      <td>6.15</td>\n",
              "      <td>Tonya Carter</td>\n",
              "      <td>4832732618637221</td>\n",
              "      <td>Sun2251</td>\n",
              "    </tr>\n",
              "  </tbody>\n",
              "</table>\n",
              "</div>\n",
              "      <button class=\"colab-df-convert\" onclick=\"convertToInteractive('df-9e22f4bd-9d37-4284-bd57-8752b1f6fdbf')\"\n",
              "              title=\"Convert this dataframe to an interactive table.\"\n",
              "              style=\"display:none;\">\n",
              "        \n",
              "  <svg xmlns=\"http://www.w3.org/2000/svg\" height=\"24px\"viewBox=\"0 0 24 24\"\n",
              "       width=\"24px\">\n",
              "    <path d=\"M0 0h24v24H0V0z\" fill=\"none\"/>\n",
              "    <path d=\"M18.56 5.44l.94 2.06.94-2.06 2.06-.94-2.06-.94-.94-2.06-.94 2.06-2.06.94zm-11 1L8.5 8.5l.94-2.06 2.06-.94-2.06-.94L8.5 2.5l-.94 2.06-2.06.94zm10 10l.94 2.06.94-2.06 2.06-.94-2.06-.94-.94-2.06-.94 2.06-2.06.94z\"/><path d=\"M17.41 7.96l-1.37-1.37c-.4-.4-.92-.59-1.43-.59-.52 0-1.04.2-1.43.59L10.3 9.45l-7.72 7.72c-.78.78-.78 2.05 0 2.83L4 21.41c.39.39.9.59 1.41.59.51 0 1.02-.2 1.41-.59l7.78-7.78 2.81-2.81c.8-.78.8-2.07 0-2.86zM5.41 20L4 18.59l7.72-7.72 1.47 1.35L5.41 20z\"/>\n",
              "  </svg>\n",
              "      </button>\n",
              "      \n",
              "  <style>\n",
              "    .colab-df-container {\n",
              "      display:flex;\n",
              "      flex-wrap:wrap;\n",
              "      gap: 12px;\n",
              "    }\n",
              "\n",
              "    .colab-df-convert {\n",
              "      background-color: #E8F0FE;\n",
              "      border: none;\n",
              "      border-radius: 50%;\n",
              "      cursor: pointer;\n",
              "      display: none;\n",
              "      fill: #1967D2;\n",
              "      height: 32px;\n",
              "      padding: 0 0 0 0;\n",
              "      width: 32px;\n",
              "    }\n",
              "\n",
              "    .colab-df-convert:hover {\n",
              "      background-color: #E2EBFA;\n",
              "      box-shadow: 0px 1px 2px rgba(60, 64, 67, 0.3), 0px 1px 3px 1px rgba(60, 64, 67, 0.15);\n",
              "      fill: #174EA6;\n",
              "    }\n",
              "\n",
              "    [theme=dark] .colab-df-convert {\n",
              "      background-color: #3B4455;\n",
              "      fill: #D2E3FC;\n",
              "    }\n",
              "\n",
              "    [theme=dark] .colab-df-convert:hover {\n",
              "      background-color: #434B5C;\n",
              "      box-shadow: 0px 1px 3px 1px rgba(0, 0, 0, 0.15);\n",
              "      filter: drop-shadow(0px 1px 2px rgba(0, 0, 0, 0.3));\n",
              "      fill: #FFFFFF;\n",
              "    }\n",
              "  </style>\n",
              "\n",
              "      <script>\n",
              "        const buttonEl =\n",
              "          document.querySelector('#df-9e22f4bd-9d37-4284-bd57-8752b1f6fdbf button.colab-df-convert');\n",
              "        buttonEl.style.display =\n",
              "          google.colab.kernel.accessAllowed ? 'block' : 'none';\n",
              "\n",
              "        async function convertToInteractive(key) {\n",
              "          const element = document.querySelector('#df-9e22f4bd-9d37-4284-bd57-8752b1f6fdbf');\n",
              "          const dataTable =\n",
              "            await google.colab.kernel.invokeFunction('convertToInteractive',\n",
              "                                                     [key], {});\n",
              "          if (!dataTable) return;\n",
              "\n",
              "          const docLinkHtml = 'Like what you see? Visit the ' +\n",
              "            '<a target=\"_blank\" href=https://colab.research.google.com/notebooks/data_table.ipynb>data table notebook</a>'\n",
              "            + ' to learn more about interactive tables.';\n",
              "          element.innerHTML = '';\n",
              "          dataTable['output_type'] = 'display_data';\n",
              "          await google.colab.output.renderOutput(dataTable, element);\n",
              "          const docLink = document.createElement('div');\n",
              "          docLink.innerHTML = docLinkHtml;\n",
              "          element.appendChild(docLink);\n",
              "        }\n",
              "      </script>\n",
              "    </div>\n",
              "  </div>\n",
              "  "
            ]
          },
          "metadata": {},
          "execution_count": 3
        }
      ]
    },
    {
      "cell_type": "code",
      "source": [
        "df1.tail()"
      ],
      "metadata": {
        "colab": {
          "base_uri": "https://localhost:8080/",
          "height": 206
        },
        "id": "vuMrt_5PJrr7",
        "outputId": "9cc23d29-84e3-4f4d-ce55-161c19a1d672"
      },
      "execution_count": null,
      "outputs": [
        {
          "output_type": "execute_result",
          "data": {
            "text/plain": [
              "     total_bill   tip     sex smoker   day    time  size  price_per_person  \\\n",
              "239       29.03  5.92    Male     No   Sat  Dinner     3              9.68   \n",
              "240       27.18  2.00  Female    Yes   Sat  Dinner     2             13.59   \n",
              "241       22.67  2.00    Male    Yes   Sat  Dinner     2             11.34   \n",
              "242       17.82  1.75    Male     No   Sat  Dinner     2              8.91   \n",
              "243       18.78  3.00  Female     No  Thur  Dinner     2              9.39   \n",
              "\n",
              "          Payer Name         CC Number Payment ID  \n",
              "239    Michael Avila  5296068606052842    Sat2657  \n",
              "240   Monica Sanders  3506806155565404    Sat1766  \n",
              "241       Keith Wong  6011891618747196    Sat3880  \n",
              "242     Dennis Dixon     4375220550950      Sat17  \n",
              "243  Michelle Hardin  3511451626698139    Thur672  "
            ],
            "text/html": [
              "\n",
              "  <div id=\"df-450578c8-7011-4eb5-a001-716e6950e7e7\">\n",
              "    <div class=\"colab-df-container\">\n",
              "      <div>\n",
              "<style scoped>\n",
              "    .dataframe tbody tr th:only-of-type {\n",
              "        vertical-align: middle;\n",
              "    }\n",
              "\n",
              "    .dataframe tbody tr th {\n",
              "        vertical-align: top;\n",
              "    }\n",
              "\n",
              "    .dataframe thead th {\n",
              "        text-align: right;\n",
              "    }\n",
              "</style>\n",
              "<table border=\"1\" class=\"dataframe\">\n",
              "  <thead>\n",
              "    <tr style=\"text-align: right;\">\n",
              "      <th></th>\n",
              "      <th>total_bill</th>\n",
              "      <th>tip</th>\n",
              "      <th>sex</th>\n",
              "      <th>smoker</th>\n",
              "      <th>day</th>\n",
              "      <th>time</th>\n",
              "      <th>size</th>\n",
              "      <th>price_per_person</th>\n",
              "      <th>Payer Name</th>\n",
              "      <th>CC Number</th>\n",
              "      <th>Payment ID</th>\n",
              "    </tr>\n",
              "  </thead>\n",
              "  <tbody>\n",
              "    <tr>\n",
              "      <th>239</th>\n",
              "      <td>29.03</td>\n",
              "      <td>5.92</td>\n",
              "      <td>Male</td>\n",
              "      <td>No</td>\n",
              "      <td>Sat</td>\n",
              "      <td>Dinner</td>\n",
              "      <td>3</td>\n",
              "      <td>9.68</td>\n",
              "      <td>Michael Avila</td>\n",
              "      <td>5296068606052842</td>\n",
              "      <td>Sat2657</td>\n",
              "    </tr>\n",
              "    <tr>\n",
              "      <th>240</th>\n",
              "      <td>27.18</td>\n",
              "      <td>2.00</td>\n",
              "      <td>Female</td>\n",
              "      <td>Yes</td>\n",
              "      <td>Sat</td>\n",
              "      <td>Dinner</td>\n",
              "      <td>2</td>\n",
              "      <td>13.59</td>\n",
              "      <td>Monica Sanders</td>\n",
              "      <td>3506806155565404</td>\n",
              "      <td>Sat1766</td>\n",
              "    </tr>\n",
              "    <tr>\n",
              "      <th>241</th>\n",
              "      <td>22.67</td>\n",
              "      <td>2.00</td>\n",
              "      <td>Male</td>\n",
              "      <td>Yes</td>\n",
              "      <td>Sat</td>\n",
              "      <td>Dinner</td>\n",
              "      <td>2</td>\n",
              "      <td>11.34</td>\n",
              "      <td>Keith Wong</td>\n",
              "      <td>6011891618747196</td>\n",
              "      <td>Sat3880</td>\n",
              "    </tr>\n",
              "    <tr>\n",
              "      <th>242</th>\n",
              "      <td>17.82</td>\n",
              "      <td>1.75</td>\n",
              "      <td>Male</td>\n",
              "      <td>No</td>\n",
              "      <td>Sat</td>\n",
              "      <td>Dinner</td>\n",
              "      <td>2</td>\n",
              "      <td>8.91</td>\n",
              "      <td>Dennis Dixon</td>\n",
              "      <td>4375220550950</td>\n",
              "      <td>Sat17</td>\n",
              "    </tr>\n",
              "    <tr>\n",
              "      <th>243</th>\n",
              "      <td>18.78</td>\n",
              "      <td>3.00</td>\n",
              "      <td>Female</td>\n",
              "      <td>No</td>\n",
              "      <td>Thur</td>\n",
              "      <td>Dinner</td>\n",
              "      <td>2</td>\n",
              "      <td>9.39</td>\n",
              "      <td>Michelle Hardin</td>\n",
              "      <td>3511451626698139</td>\n",
              "      <td>Thur672</td>\n",
              "    </tr>\n",
              "  </tbody>\n",
              "</table>\n",
              "</div>\n",
              "      <button class=\"colab-df-convert\" onclick=\"convertToInteractive('df-450578c8-7011-4eb5-a001-716e6950e7e7')\"\n",
              "              title=\"Convert this dataframe to an interactive table.\"\n",
              "              style=\"display:none;\">\n",
              "        \n",
              "  <svg xmlns=\"http://www.w3.org/2000/svg\" height=\"24px\"viewBox=\"0 0 24 24\"\n",
              "       width=\"24px\">\n",
              "    <path d=\"M0 0h24v24H0V0z\" fill=\"none\"/>\n",
              "    <path d=\"M18.56 5.44l.94 2.06.94-2.06 2.06-.94-2.06-.94-.94-2.06-.94 2.06-2.06.94zm-11 1L8.5 8.5l.94-2.06 2.06-.94-2.06-.94L8.5 2.5l-.94 2.06-2.06.94zm10 10l.94 2.06.94-2.06 2.06-.94-2.06-.94-.94-2.06-.94 2.06-2.06.94z\"/><path d=\"M17.41 7.96l-1.37-1.37c-.4-.4-.92-.59-1.43-.59-.52 0-1.04.2-1.43.59L10.3 9.45l-7.72 7.72c-.78.78-.78 2.05 0 2.83L4 21.41c.39.39.9.59 1.41.59.51 0 1.02-.2 1.41-.59l7.78-7.78 2.81-2.81c.8-.78.8-2.07 0-2.86zM5.41 20L4 18.59l7.72-7.72 1.47 1.35L5.41 20z\"/>\n",
              "  </svg>\n",
              "      </button>\n",
              "      \n",
              "  <style>\n",
              "    .colab-df-container {\n",
              "      display:flex;\n",
              "      flex-wrap:wrap;\n",
              "      gap: 12px;\n",
              "    }\n",
              "\n",
              "    .colab-df-convert {\n",
              "      background-color: #E8F0FE;\n",
              "      border: none;\n",
              "      border-radius: 50%;\n",
              "      cursor: pointer;\n",
              "      display: none;\n",
              "      fill: #1967D2;\n",
              "      height: 32px;\n",
              "      padding: 0 0 0 0;\n",
              "      width: 32px;\n",
              "    }\n",
              "\n",
              "    .colab-df-convert:hover {\n",
              "      background-color: #E2EBFA;\n",
              "      box-shadow: 0px 1px 2px rgba(60, 64, 67, 0.3), 0px 1px 3px 1px rgba(60, 64, 67, 0.15);\n",
              "      fill: #174EA6;\n",
              "    }\n",
              "\n",
              "    [theme=dark] .colab-df-convert {\n",
              "      background-color: #3B4455;\n",
              "      fill: #D2E3FC;\n",
              "    }\n",
              "\n",
              "    [theme=dark] .colab-df-convert:hover {\n",
              "      background-color: #434B5C;\n",
              "      box-shadow: 0px 1px 3px 1px rgba(0, 0, 0, 0.15);\n",
              "      filter: drop-shadow(0px 1px 2px rgba(0, 0, 0, 0.3));\n",
              "      fill: #FFFFFF;\n",
              "    }\n",
              "  </style>\n",
              "\n",
              "      <script>\n",
              "        const buttonEl =\n",
              "          document.querySelector('#df-450578c8-7011-4eb5-a001-716e6950e7e7 button.colab-df-convert');\n",
              "        buttonEl.style.display =\n",
              "          google.colab.kernel.accessAllowed ? 'block' : 'none';\n",
              "\n",
              "        async function convertToInteractive(key) {\n",
              "          const element = document.querySelector('#df-450578c8-7011-4eb5-a001-716e6950e7e7');\n",
              "          const dataTable =\n",
              "            await google.colab.kernel.invokeFunction('convertToInteractive',\n",
              "                                                     [key], {});\n",
              "          if (!dataTable) return;\n",
              "\n",
              "          const docLinkHtml = 'Like what you see? Visit the ' +\n",
              "            '<a target=\"_blank\" href=https://colab.research.google.com/notebooks/data_table.ipynb>data table notebook</a>'\n",
              "            + ' to learn more about interactive tables.';\n",
              "          element.innerHTML = '';\n",
              "          dataTable['output_type'] = 'display_data';\n",
              "          await google.colab.output.renderOutput(dataTable, element);\n",
              "          const docLink = document.createElement('div');\n",
              "          docLink.innerHTML = docLinkHtml;\n",
              "          element.appendChild(docLink);\n",
              "        }\n",
              "      </script>\n",
              "    </div>\n",
              "  </div>\n",
              "  "
            ]
          },
          "metadata": {},
          "execution_count": 4
        }
      ]
    },
    {
      "cell_type": "code",
      "source": [
        "df1.columns"
      ],
      "metadata": {
        "colab": {
          "base_uri": "https://localhost:8080/"
        },
        "id": "RXU8oKl8JzBX",
        "outputId": "f2e69943-a6b9-4af0-ba66-8f5430260912"
      },
      "execution_count": null,
      "outputs": [
        {
          "output_type": "execute_result",
          "data": {
            "text/plain": [
              "Index(['total_bill', 'tip', 'sex', 'smoker', 'day', 'time', 'size',\n",
              "       'price_per_person', 'Payer Name', 'CC Number', 'Payment ID'],\n",
              "      dtype='object')"
            ]
          },
          "metadata": {},
          "execution_count": 5
        }
      ]
    },
    {
      "cell_type": "code",
      "source": [
        "df1.sample(10)"
      ],
      "metadata": {
        "colab": {
          "base_uri": "https://localhost:8080/",
          "height": 363
        },
        "id": "yNPlpTF4J4ho",
        "outputId": "e85bcd33-28d1-4c75-e243-5f0e36a4a480"
      },
      "execution_count": null,
      "outputs": [
        {
          "output_type": "execute_result",
          "data": {
            "text/plain": [
              "     total_bill   tip     sex smoker   day    time  size  price_per_person  \\\n",
              "15        21.58  3.92    Male     No   Sun  Dinner     2             10.79   \n",
              "89        21.16  3.00    Male     No  Thur   Lunch     2             10.58   \n",
              "103       22.42  3.48  Female    Yes   Sat  Dinner     2             11.21   \n",
              "17        16.29  3.71    Male     No   Sun  Dinner     3              5.43   \n",
              "55        19.49  3.51    Male     No   Sun  Dinner     2              9.74   \n",
              "145        8.35  1.50  Female     No  Thur   Lunch     2              4.18   \n",
              "31        18.35  2.50    Male     No   Sat  Dinner     4              4.59   \n",
              "239       29.03  5.92    Male     No   Sat  Dinner     3              9.68   \n",
              "167       31.71  4.50    Male     No   Sun  Dinner     4              7.93   \n",
              "80        19.44  3.00    Male    Yes  Thur   Lunch     2              9.72   \n",
              "\n",
              "           Payer Name         CC Number Payment ID  \n",
              "15     Matthew Reilly   180073029785069    Sun1878  \n",
              "89        Keith Lewis  4356005144080422   Thur6273  \n",
              "103  Kathleen Hawkins   348009865484721    Sat1015  \n",
              "17       John Pittman  6521340257218708    Sun2998  \n",
              "55   Michael Hamilton  6502227786581768    Sun1118  \n",
              "145         Amy Young     4285454264477   Thur9331  \n",
              "31     Danny Santiago      630415546013    Sat4947  \n",
              "239     Michael Avila  5296068606052842    Sat2657  \n",
              "167    Michael Lawson  3566285921227119    Sun3719  \n",
              "80       Louis Torres    38848369968464   Thur6453  "
            ],
            "text/html": [
              "\n",
              "  <div id=\"df-3aa5cfc0-b2c9-4efe-9196-b90ada8acd06\">\n",
              "    <div class=\"colab-df-container\">\n",
              "      <div>\n",
              "<style scoped>\n",
              "    .dataframe tbody tr th:only-of-type {\n",
              "        vertical-align: middle;\n",
              "    }\n",
              "\n",
              "    .dataframe tbody tr th {\n",
              "        vertical-align: top;\n",
              "    }\n",
              "\n",
              "    .dataframe thead th {\n",
              "        text-align: right;\n",
              "    }\n",
              "</style>\n",
              "<table border=\"1\" class=\"dataframe\">\n",
              "  <thead>\n",
              "    <tr style=\"text-align: right;\">\n",
              "      <th></th>\n",
              "      <th>total_bill</th>\n",
              "      <th>tip</th>\n",
              "      <th>sex</th>\n",
              "      <th>smoker</th>\n",
              "      <th>day</th>\n",
              "      <th>time</th>\n",
              "      <th>size</th>\n",
              "      <th>price_per_person</th>\n",
              "      <th>Payer Name</th>\n",
              "      <th>CC Number</th>\n",
              "      <th>Payment ID</th>\n",
              "    </tr>\n",
              "  </thead>\n",
              "  <tbody>\n",
              "    <tr>\n",
              "      <th>15</th>\n",
              "      <td>21.58</td>\n",
              "      <td>3.92</td>\n",
              "      <td>Male</td>\n",
              "      <td>No</td>\n",
              "      <td>Sun</td>\n",
              "      <td>Dinner</td>\n",
              "      <td>2</td>\n",
              "      <td>10.79</td>\n",
              "      <td>Matthew Reilly</td>\n",
              "      <td>180073029785069</td>\n",
              "      <td>Sun1878</td>\n",
              "    </tr>\n",
              "    <tr>\n",
              "      <th>89</th>\n",
              "      <td>21.16</td>\n",
              "      <td>3.00</td>\n",
              "      <td>Male</td>\n",
              "      <td>No</td>\n",
              "      <td>Thur</td>\n",
              "      <td>Lunch</td>\n",
              "      <td>2</td>\n",
              "      <td>10.58</td>\n",
              "      <td>Keith Lewis</td>\n",
              "      <td>4356005144080422</td>\n",
              "      <td>Thur6273</td>\n",
              "    </tr>\n",
              "    <tr>\n",
              "      <th>103</th>\n",
              "      <td>22.42</td>\n",
              "      <td>3.48</td>\n",
              "      <td>Female</td>\n",
              "      <td>Yes</td>\n",
              "      <td>Sat</td>\n",
              "      <td>Dinner</td>\n",
              "      <td>2</td>\n",
              "      <td>11.21</td>\n",
              "      <td>Kathleen Hawkins</td>\n",
              "      <td>348009865484721</td>\n",
              "      <td>Sat1015</td>\n",
              "    </tr>\n",
              "    <tr>\n",
              "      <th>17</th>\n",
              "      <td>16.29</td>\n",
              "      <td>3.71</td>\n",
              "      <td>Male</td>\n",
              "      <td>No</td>\n",
              "      <td>Sun</td>\n",
              "      <td>Dinner</td>\n",
              "      <td>3</td>\n",
              "      <td>5.43</td>\n",
              "      <td>John Pittman</td>\n",
              "      <td>6521340257218708</td>\n",
              "      <td>Sun2998</td>\n",
              "    </tr>\n",
              "    <tr>\n",
              "      <th>55</th>\n",
              "      <td>19.49</td>\n",
              "      <td>3.51</td>\n",
              "      <td>Male</td>\n",
              "      <td>No</td>\n",
              "      <td>Sun</td>\n",
              "      <td>Dinner</td>\n",
              "      <td>2</td>\n",
              "      <td>9.74</td>\n",
              "      <td>Michael Hamilton</td>\n",
              "      <td>6502227786581768</td>\n",
              "      <td>Sun1118</td>\n",
              "    </tr>\n",
              "    <tr>\n",
              "      <th>145</th>\n",
              "      <td>8.35</td>\n",
              "      <td>1.50</td>\n",
              "      <td>Female</td>\n",
              "      <td>No</td>\n",
              "      <td>Thur</td>\n",
              "      <td>Lunch</td>\n",
              "      <td>2</td>\n",
              "      <td>4.18</td>\n",
              "      <td>Amy Young</td>\n",
              "      <td>4285454264477</td>\n",
              "      <td>Thur9331</td>\n",
              "    </tr>\n",
              "    <tr>\n",
              "      <th>31</th>\n",
              "      <td>18.35</td>\n",
              "      <td>2.50</td>\n",
              "      <td>Male</td>\n",
              "      <td>No</td>\n",
              "      <td>Sat</td>\n",
              "      <td>Dinner</td>\n",
              "      <td>4</td>\n",
              "      <td>4.59</td>\n",
              "      <td>Danny Santiago</td>\n",
              "      <td>630415546013</td>\n",
              "      <td>Sat4947</td>\n",
              "    </tr>\n",
              "    <tr>\n",
              "      <th>239</th>\n",
              "      <td>29.03</td>\n",
              "      <td>5.92</td>\n",
              "      <td>Male</td>\n",
              "      <td>No</td>\n",
              "      <td>Sat</td>\n",
              "      <td>Dinner</td>\n",
              "      <td>3</td>\n",
              "      <td>9.68</td>\n",
              "      <td>Michael Avila</td>\n",
              "      <td>5296068606052842</td>\n",
              "      <td>Sat2657</td>\n",
              "    </tr>\n",
              "    <tr>\n",
              "      <th>167</th>\n",
              "      <td>31.71</td>\n",
              "      <td>4.50</td>\n",
              "      <td>Male</td>\n",
              "      <td>No</td>\n",
              "      <td>Sun</td>\n",
              "      <td>Dinner</td>\n",
              "      <td>4</td>\n",
              "      <td>7.93</td>\n",
              "      <td>Michael Lawson</td>\n",
              "      <td>3566285921227119</td>\n",
              "      <td>Sun3719</td>\n",
              "    </tr>\n",
              "    <tr>\n",
              "      <th>80</th>\n",
              "      <td>19.44</td>\n",
              "      <td>3.00</td>\n",
              "      <td>Male</td>\n",
              "      <td>Yes</td>\n",
              "      <td>Thur</td>\n",
              "      <td>Lunch</td>\n",
              "      <td>2</td>\n",
              "      <td>9.72</td>\n",
              "      <td>Louis Torres</td>\n",
              "      <td>38848369968464</td>\n",
              "      <td>Thur6453</td>\n",
              "    </tr>\n",
              "  </tbody>\n",
              "</table>\n",
              "</div>\n",
              "      <button class=\"colab-df-convert\" onclick=\"convertToInteractive('df-3aa5cfc0-b2c9-4efe-9196-b90ada8acd06')\"\n",
              "              title=\"Convert this dataframe to an interactive table.\"\n",
              "              style=\"display:none;\">\n",
              "        \n",
              "  <svg xmlns=\"http://www.w3.org/2000/svg\" height=\"24px\"viewBox=\"0 0 24 24\"\n",
              "       width=\"24px\">\n",
              "    <path d=\"M0 0h24v24H0V0z\" fill=\"none\"/>\n",
              "    <path d=\"M18.56 5.44l.94 2.06.94-2.06 2.06-.94-2.06-.94-.94-2.06-.94 2.06-2.06.94zm-11 1L8.5 8.5l.94-2.06 2.06-.94-2.06-.94L8.5 2.5l-.94 2.06-2.06.94zm10 10l.94 2.06.94-2.06 2.06-.94-2.06-.94-.94-2.06-.94 2.06-2.06.94z\"/><path d=\"M17.41 7.96l-1.37-1.37c-.4-.4-.92-.59-1.43-.59-.52 0-1.04.2-1.43.59L10.3 9.45l-7.72 7.72c-.78.78-.78 2.05 0 2.83L4 21.41c.39.39.9.59 1.41.59.51 0 1.02-.2 1.41-.59l7.78-7.78 2.81-2.81c.8-.78.8-2.07 0-2.86zM5.41 20L4 18.59l7.72-7.72 1.47 1.35L5.41 20z\"/>\n",
              "  </svg>\n",
              "      </button>\n",
              "      \n",
              "  <style>\n",
              "    .colab-df-container {\n",
              "      display:flex;\n",
              "      flex-wrap:wrap;\n",
              "      gap: 12px;\n",
              "    }\n",
              "\n",
              "    .colab-df-convert {\n",
              "      background-color: #E8F0FE;\n",
              "      border: none;\n",
              "      border-radius: 50%;\n",
              "      cursor: pointer;\n",
              "      display: none;\n",
              "      fill: #1967D2;\n",
              "      height: 32px;\n",
              "      padding: 0 0 0 0;\n",
              "      width: 32px;\n",
              "    }\n",
              "\n",
              "    .colab-df-convert:hover {\n",
              "      background-color: #E2EBFA;\n",
              "      box-shadow: 0px 1px 2px rgba(60, 64, 67, 0.3), 0px 1px 3px 1px rgba(60, 64, 67, 0.15);\n",
              "      fill: #174EA6;\n",
              "    }\n",
              "\n",
              "    [theme=dark] .colab-df-convert {\n",
              "      background-color: #3B4455;\n",
              "      fill: #D2E3FC;\n",
              "    }\n",
              "\n",
              "    [theme=dark] .colab-df-convert:hover {\n",
              "      background-color: #434B5C;\n",
              "      box-shadow: 0px 1px 3px 1px rgba(0, 0, 0, 0.15);\n",
              "      filter: drop-shadow(0px 1px 2px rgba(0, 0, 0, 0.3));\n",
              "      fill: #FFFFFF;\n",
              "    }\n",
              "  </style>\n",
              "\n",
              "      <script>\n",
              "        const buttonEl =\n",
              "          document.querySelector('#df-3aa5cfc0-b2c9-4efe-9196-b90ada8acd06 button.colab-df-convert');\n",
              "        buttonEl.style.display =\n",
              "          google.colab.kernel.accessAllowed ? 'block' : 'none';\n",
              "\n",
              "        async function convertToInteractive(key) {\n",
              "          const element = document.querySelector('#df-3aa5cfc0-b2c9-4efe-9196-b90ada8acd06');\n",
              "          const dataTable =\n",
              "            await google.colab.kernel.invokeFunction('convertToInteractive',\n",
              "                                                     [key], {});\n",
              "          if (!dataTable) return;\n",
              "\n",
              "          const docLinkHtml = 'Like what you see? Visit the ' +\n",
              "            '<a target=\"_blank\" href=https://colab.research.google.com/notebooks/data_table.ipynb>data table notebook</a>'\n",
              "            + ' to learn more about interactive tables.';\n",
              "          element.innerHTML = '';\n",
              "          dataTable['output_type'] = 'display_data';\n",
              "          await google.colab.output.renderOutput(dataTable, element);\n",
              "          const docLink = document.createElement('div');\n",
              "          docLink.innerHTML = docLinkHtml;\n",
              "          element.appendChild(docLink);\n",
              "        }\n",
              "      </script>\n",
              "    </div>\n",
              "  </div>\n",
              "  "
            ]
          },
          "metadata": {},
          "execution_count": 7
        }
      ]
    },
    {
      "cell_type": "code",
      "source": [
        "df1.info()"
      ],
      "metadata": {
        "colab": {
          "base_uri": "https://localhost:8080/"
        },
        "id": "uch8vWHzQb54",
        "outputId": "59900c04-56ae-4d1c-d3db-58bdc01f5908"
      },
      "execution_count": null,
      "outputs": [
        {
          "output_type": "stream",
          "name": "stdout",
          "text": [
            "<class 'pandas.core.frame.DataFrame'>\n",
            "RangeIndex: 244 entries, 0 to 243\n",
            "Data columns (total 11 columns):\n",
            " #   Column            Non-Null Count  Dtype  \n",
            "---  ------            --------------  -----  \n",
            " 0   total_bill        244 non-null    float64\n",
            " 1   tip               244 non-null    float64\n",
            " 2   sex               244 non-null    object \n",
            " 3   smoker            244 non-null    object \n",
            " 4   day               244 non-null    object \n",
            " 5   time              244 non-null    object \n",
            " 6   size              244 non-null    int64  \n",
            " 7   price_per_person  244 non-null    float64\n",
            " 8   Payer Name        244 non-null    object \n",
            " 9   CC Number         244 non-null    int64  \n",
            " 10  Payment ID        244 non-null    object \n",
            "dtypes: float64(3), int64(2), object(6)\n",
            "memory usage: 21.1+ KB\n"
          ]
        }
      ]
    },
    {
      "cell_type": "code",
      "source": [
        "df1.describe()"
      ],
      "metadata": {
        "colab": {
          "base_uri": "https://localhost:8080/",
          "height": 300
        },
        "id": "xpr7TI5LQq6E",
        "outputId": "442967bb-f6e0-4bb4-9a54-29ce2795e601"
      },
      "execution_count": null,
      "outputs": [
        {
          "output_type": "execute_result",
          "data": {
            "text/plain": [
              "       total_bill         tip        size  price_per_person     CC Number\n",
              "count  244.000000  244.000000  244.000000        244.000000  2.440000e+02\n",
              "mean    19.785943    2.998279    2.569672          7.888197  2.563496e+15\n",
              "std      8.902412    1.383638    0.951100          2.914234  2.369340e+15\n",
              "min      3.070000    1.000000    1.000000          2.880000  6.040679e+10\n",
              "25%     13.347500    2.000000    2.000000          5.800000  3.040731e+13\n",
              "50%     17.795000    2.900000    2.000000          7.255000  3.525318e+15\n",
              "75%     24.127500    3.562500    3.000000          9.390000  4.553675e+15\n",
              "max     50.810000   10.000000    6.000000         20.270000  6.596454e+15"
            ],
            "text/html": [
              "\n",
              "  <div id=\"df-b42c1d6f-6fdf-4ab5-a625-0ce784ae9904\">\n",
              "    <div class=\"colab-df-container\">\n",
              "      <div>\n",
              "<style scoped>\n",
              "    .dataframe tbody tr th:only-of-type {\n",
              "        vertical-align: middle;\n",
              "    }\n",
              "\n",
              "    .dataframe tbody tr th {\n",
              "        vertical-align: top;\n",
              "    }\n",
              "\n",
              "    .dataframe thead th {\n",
              "        text-align: right;\n",
              "    }\n",
              "</style>\n",
              "<table border=\"1\" class=\"dataframe\">\n",
              "  <thead>\n",
              "    <tr style=\"text-align: right;\">\n",
              "      <th></th>\n",
              "      <th>total_bill</th>\n",
              "      <th>tip</th>\n",
              "      <th>size</th>\n",
              "      <th>price_per_person</th>\n",
              "      <th>CC Number</th>\n",
              "    </tr>\n",
              "  </thead>\n",
              "  <tbody>\n",
              "    <tr>\n",
              "      <th>count</th>\n",
              "      <td>244.000000</td>\n",
              "      <td>244.000000</td>\n",
              "      <td>244.000000</td>\n",
              "      <td>244.000000</td>\n",
              "      <td>2.440000e+02</td>\n",
              "    </tr>\n",
              "    <tr>\n",
              "      <th>mean</th>\n",
              "      <td>19.785943</td>\n",
              "      <td>2.998279</td>\n",
              "      <td>2.569672</td>\n",
              "      <td>7.888197</td>\n",
              "      <td>2.563496e+15</td>\n",
              "    </tr>\n",
              "    <tr>\n",
              "      <th>std</th>\n",
              "      <td>8.902412</td>\n",
              "      <td>1.383638</td>\n",
              "      <td>0.951100</td>\n",
              "      <td>2.914234</td>\n",
              "      <td>2.369340e+15</td>\n",
              "    </tr>\n",
              "    <tr>\n",
              "      <th>min</th>\n",
              "      <td>3.070000</td>\n",
              "      <td>1.000000</td>\n",
              "      <td>1.000000</td>\n",
              "      <td>2.880000</td>\n",
              "      <td>6.040679e+10</td>\n",
              "    </tr>\n",
              "    <tr>\n",
              "      <th>25%</th>\n",
              "      <td>13.347500</td>\n",
              "      <td>2.000000</td>\n",
              "      <td>2.000000</td>\n",
              "      <td>5.800000</td>\n",
              "      <td>3.040731e+13</td>\n",
              "    </tr>\n",
              "    <tr>\n",
              "      <th>50%</th>\n",
              "      <td>17.795000</td>\n",
              "      <td>2.900000</td>\n",
              "      <td>2.000000</td>\n",
              "      <td>7.255000</td>\n",
              "      <td>3.525318e+15</td>\n",
              "    </tr>\n",
              "    <tr>\n",
              "      <th>75%</th>\n",
              "      <td>24.127500</td>\n",
              "      <td>3.562500</td>\n",
              "      <td>3.000000</td>\n",
              "      <td>9.390000</td>\n",
              "      <td>4.553675e+15</td>\n",
              "    </tr>\n",
              "    <tr>\n",
              "      <th>max</th>\n",
              "      <td>50.810000</td>\n",
              "      <td>10.000000</td>\n",
              "      <td>6.000000</td>\n",
              "      <td>20.270000</td>\n",
              "      <td>6.596454e+15</td>\n",
              "    </tr>\n",
              "  </tbody>\n",
              "</table>\n",
              "</div>\n",
              "      <button class=\"colab-df-convert\" onclick=\"convertToInteractive('df-b42c1d6f-6fdf-4ab5-a625-0ce784ae9904')\"\n",
              "              title=\"Convert this dataframe to an interactive table.\"\n",
              "              style=\"display:none;\">\n",
              "        \n",
              "  <svg xmlns=\"http://www.w3.org/2000/svg\" height=\"24px\"viewBox=\"0 0 24 24\"\n",
              "       width=\"24px\">\n",
              "    <path d=\"M0 0h24v24H0V0z\" fill=\"none\"/>\n",
              "    <path d=\"M18.56 5.44l.94 2.06.94-2.06 2.06-.94-2.06-.94-.94-2.06-.94 2.06-2.06.94zm-11 1L8.5 8.5l.94-2.06 2.06-.94-2.06-.94L8.5 2.5l-.94 2.06-2.06.94zm10 10l.94 2.06.94-2.06 2.06-.94-2.06-.94-.94-2.06-.94 2.06-2.06.94z\"/><path d=\"M17.41 7.96l-1.37-1.37c-.4-.4-.92-.59-1.43-.59-.52 0-1.04.2-1.43.59L10.3 9.45l-7.72 7.72c-.78.78-.78 2.05 0 2.83L4 21.41c.39.39.9.59 1.41.59.51 0 1.02-.2 1.41-.59l7.78-7.78 2.81-2.81c.8-.78.8-2.07 0-2.86zM5.41 20L4 18.59l7.72-7.72 1.47 1.35L5.41 20z\"/>\n",
              "  </svg>\n",
              "      </button>\n",
              "      \n",
              "  <style>\n",
              "    .colab-df-container {\n",
              "      display:flex;\n",
              "      flex-wrap:wrap;\n",
              "      gap: 12px;\n",
              "    }\n",
              "\n",
              "    .colab-df-convert {\n",
              "      background-color: #E8F0FE;\n",
              "      border: none;\n",
              "      border-radius: 50%;\n",
              "      cursor: pointer;\n",
              "      display: none;\n",
              "      fill: #1967D2;\n",
              "      height: 32px;\n",
              "      padding: 0 0 0 0;\n",
              "      width: 32px;\n",
              "    }\n",
              "\n",
              "    .colab-df-convert:hover {\n",
              "      background-color: #E2EBFA;\n",
              "      box-shadow: 0px 1px 2px rgba(60, 64, 67, 0.3), 0px 1px 3px 1px rgba(60, 64, 67, 0.15);\n",
              "      fill: #174EA6;\n",
              "    }\n",
              "\n",
              "    [theme=dark] .colab-df-convert {\n",
              "      background-color: #3B4455;\n",
              "      fill: #D2E3FC;\n",
              "    }\n",
              "\n",
              "    [theme=dark] .colab-df-convert:hover {\n",
              "      background-color: #434B5C;\n",
              "      box-shadow: 0px 1px 3px 1px rgba(0, 0, 0, 0.15);\n",
              "      filter: drop-shadow(0px 1px 2px rgba(0, 0, 0, 0.3));\n",
              "      fill: #FFFFFF;\n",
              "    }\n",
              "  </style>\n",
              "\n",
              "      <script>\n",
              "        const buttonEl =\n",
              "          document.querySelector('#df-b42c1d6f-6fdf-4ab5-a625-0ce784ae9904 button.colab-df-convert');\n",
              "        buttonEl.style.display =\n",
              "          google.colab.kernel.accessAllowed ? 'block' : 'none';\n",
              "\n",
              "        async function convertToInteractive(key) {\n",
              "          const element = document.querySelector('#df-b42c1d6f-6fdf-4ab5-a625-0ce784ae9904');\n",
              "          const dataTable =\n",
              "            await google.colab.kernel.invokeFunction('convertToInteractive',\n",
              "                                                     [key], {});\n",
              "          if (!dataTable) return;\n",
              "\n",
              "          const docLinkHtml = 'Like what you see? Visit the ' +\n",
              "            '<a target=\"_blank\" href=https://colab.research.google.com/notebooks/data_table.ipynb>data table notebook</a>'\n",
              "            + ' to learn more about interactive tables.';\n",
              "          element.innerHTML = '';\n",
              "          dataTable['output_type'] = 'display_data';\n",
              "          await google.colab.output.renderOutput(dataTable, element);\n",
              "          const docLink = document.createElement('div');\n",
              "          docLink.innerHTML = docLinkHtml;\n",
              "          element.appendChild(docLink);\n",
              "        }\n",
              "      </script>\n",
              "    </div>\n",
              "  </div>\n",
              "  "
            ]
          },
          "metadata": {},
          "execution_count": 9
        }
      ]
    },
    {
      "cell_type": "code",
      "source": [
        "df1.isnull().sum()"
      ],
      "metadata": {
        "colab": {
          "base_uri": "https://localhost:8080/"
        },
        "id": "LBKymDJVUkz9",
        "outputId": "13926265-b7e3-4640-c127-2f11a594efeb"
      },
      "execution_count": null,
      "outputs": [
        {
          "output_type": "execute_result",
          "data": {
            "text/plain": [
              "total_bill          0\n",
              "tip                 0\n",
              "sex                 0\n",
              "smoker              0\n",
              "day                 0\n",
              "time                0\n",
              "size                0\n",
              "price_per_person    0\n",
              "Payer Name          0\n",
              "CC Number           0\n",
              "Payment ID          0\n",
              "dtype: int64"
            ]
          },
          "metadata": {},
          "execution_count": 10
        }
      ]
    },
    {
      "cell_type": "code",
      "source": [
        "df1['day'].unique()"
      ],
      "metadata": {
        "colab": {
          "base_uri": "https://localhost:8080/"
        },
        "id": "YsJLWs6CU74u",
        "outputId": "b733acdd-4afb-46ac-ec2f-76f0fa6f13f8"
      },
      "execution_count": null,
      "outputs": [
        {
          "output_type": "execute_result",
          "data": {
            "text/plain": [
              "array(['Sun', 'Sat', 'Thur', 'Fri'], dtype=object)"
            ]
          },
          "metadata": {},
          "execution_count": 11
        }
      ]
    },
    {
      "cell_type": "code",
      "source": [
        "df1['sex'].unique()"
      ],
      "metadata": {
        "colab": {
          "base_uri": "https://localhost:8080/"
        },
        "id": "PPBWByhXV3HX",
        "outputId": "35b3b7b5-5eb3-4144-a29b-2c1785302654"
      },
      "execution_count": null,
      "outputs": [
        {
          "output_type": "execute_result",
          "data": {
            "text/plain": [
              "array(['Female', 'Male'], dtype=object)"
            ]
          },
          "metadata": {},
          "execution_count": 12
        }
      ]
    },
    {
      "cell_type": "code",
      "source": [
        "df1['time'].unique()"
      ],
      "metadata": {
        "colab": {
          "base_uri": "https://localhost:8080/"
        },
        "id": "7ofncr6lWA4k",
        "outputId": "046de764-6b2e-4a0e-fa98-3dac03f87efc"
      },
      "execution_count": null,
      "outputs": [
        {
          "output_type": "execute_result",
          "data": {
            "text/plain": [
              "array(['Dinner', 'Lunch'], dtype=object)"
            ]
          },
          "metadata": {},
          "execution_count": 13
        }
      ]
    },
    {
      "cell_type": "code",
      "source": [
        "df1['size'].unique()"
      ],
      "metadata": {
        "colab": {
          "base_uri": "https://localhost:8080/"
        },
        "id": "Jhc06GekWQn4",
        "outputId": "2e9d5f5a-7b3d-4209-8e87-30faa97ddf7b"
      },
      "execution_count": null,
      "outputs": [
        {
          "output_type": "execute_result",
          "data": {
            "text/plain": [
              "array([2, 3, 4, 1, 6, 5])"
            ]
          },
          "metadata": {},
          "execution_count": 14
        }
      ]
    },
    {
      "cell_type": "code",
      "source": [
        "df1['smoker'].unique()"
      ],
      "metadata": {
        "colab": {
          "base_uri": "https://localhost:8080/"
        },
        "id": "_N7xJ6I4WZSb",
        "outputId": "146b3259-66ca-4611-f286-807473dd66f3"
      },
      "execution_count": null,
      "outputs": [
        {
          "output_type": "execute_result",
          "data": {
            "text/plain": [
              "array(['No', 'Yes'], dtype=object)"
            ]
          },
          "metadata": {},
          "execution_count": 16
        }
      ]
    },
    {
      "cell_type": "code",
      "source": [
        "df1.nunique()"
      ],
      "metadata": {
        "colab": {
          "base_uri": "https://localhost:8080/"
        },
        "id": "KH9aNe_ZWyTG",
        "outputId": "f920dcbd-9c5f-4b3c-b931-6af09549a3b2"
      },
      "execution_count": null,
      "outputs": [
        {
          "output_type": "execute_result",
          "data": {
            "text/plain": [
              "total_bill          229\n",
              "tip                 123\n",
              "sex                   2\n",
              "smoker                2\n",
              "day                   4\n",
              "time                  2\n",
              "size                  6\n",
              "price_per_person    217\n",
              "Payer Name          244\n",
              "CC Number           244\n",
              "Payment ID          243\n",
              "dtype: int64"
            ]
          },
          "metadata": {},
          "execution_count": 17
        }
      ]
    },
    {
      "cell_type": "code",
      "source": [
        "for i in df1.columns:\n",
        "  print(df1[i].unique())"
      ],
      "metadata": {
        "colab": {
          "base_uri": "https://localhost:8080/"
        },
        "id": "KtxjaXCCYjmc",
        "outputId": "d9fab9ac-72c8-47a2-b937-e743e1b93255"
      },
      "execution_count": null,
      "outputs": [
        {
          "output_type": "stream",
          "name": "stdout",
          "text": [
            "[16.99 10.34 21.01 23.68 24.59 25.29  8.77 26.88 15.04 14.78 10.27 35.26\n",
            " 15.42 18.43 14.83 21.58 10.33 16.29 16.97 20.65 17.92 20.29 15.77 39.42\n",
            " 19.82 17.81 13.37 12.69 21.7  19.65  9.55 18.35 15.06 20.69 17.78 24.06\n",
            " 16.31 16.93 18.69 31.27 16.04 17.46 13.94  9.68 30.4  18.29 22.23 32.4\n",
            " 28.55 18.04 12.54 10.29 34.81  9.94 25.56 19.49 38.01 26.41 11.24 48.27\n",
            " 13.81 11.02 17.59 20.08 16.45  3.07 20.23 15.01 12.02 17.07 26.86 25.28\n",
            " 14.73 10.51 27.2  22.76 17.29 19.44 16.66 10.07 32.68 15.98 34.83 13.03\n",
            " 18.28 24.71 21.16 28.97 22.49  5.75 16.32 22.75 40.17 27.28 12.03 12.46\n",
            " 11.35 15.38 44.3  22.42 20.92 15.36 20.49 25.21 18.24 14.31 14.    7.25\n",
            " 38.07 23.95 25.71 17.31 29.93 10.65 12.43 24.08 11.69 13.42 14.26 15.95\n",
            " 12.48 29.8   8.52 14.52 11.38 22.82 19.08 20.27 11.17 12.26 18.26  8.51\n",
            " 14.15 16.   13.16 17.47 34.3  41.19 27.05 16.43  8.35 18.64 11.87  9.78\n",
            "  7.51 14.07 13.13 17.26 24.55 19.77 29.85 48.17 25.   13.39 16.49 21.5\n",
            " 12.66 16.21 17.51 24.52 20.76 31.71 10.59 10.63 50.81 15.81 31.85 16.82\n",
            " 32.9  17.89 14.48  9.6  34.63 34.65 23.33 45.35 23.17 40.55 20.9  30.46\n",
            " 18.15 23.1  15.69 19.81 28.44 15.48 16.58  7.56 43.11 13.   13.51 18.71\n",
            " 12.74 16.4  20.53 16.47 26.59 38.73 24.27 12.76 30.06 25.89 48.33 13.27\n",
            " 28.17 12.9  28.15 11.59  7.74 30.14 12.16  8.58 16.27 10.09 20.45 13.28\n",
            " 22.12 24.01 11.61 10.77 15.53 12.6  32.83 35.83 29.03 27.18 22.67 17.82\n",
            " 18.78]\n",
            "[ 1.01  1.66  3.5   3.31  3.61  4.71  2.    3.12  1.96  3.23  1.71  5.\n",
            "  1.57  3.    3.02  3.92  1.67  3.71  3.35  4.08  2.75  2.23  7.58  3.18\n",
            "  2.34  4.3   1.45  2.5   2.45  3.27  3.6   3.07  2.31  2.24  2.54  3.06\n",
            "  1.32  5.6   6.    2.05  2.6   5.2   1.56  4.34  3.51  1.5   1.76  6.73\n",
            "  3.21  1.98  3.76  2.64  3.15  2.47  1.    2.01  2.09  1.97  3.14  2.2\n",
            "  1.25  3.08  4.    2.71  3.4   1.83  2.03  5.17  5.85  3.25  4.73  3.48\n",
            "  1.64  4.06  4.29  2.55  5.07  1.8   2.92  1.68  2.52  4.2   1.48  2.18\n",
            "  2.83  6.7   2.3   1.36  1.63  1.73  2.74  5.14  3.75  2.61  4.5   1.61\n",
            " 10.    3.16  5.15  3.11  3.55  3.68  5.65  6.5   4.19  2.56  2.02  1.44\n",
            "  3.41  5.16  9.    1.1   3.09  1.92  1.58  2.72  2.88  3.39  1.47  1.17\n",
            "  4.67  5.92  1.75]\n",
            "['Female' 'Male']\n",
            "['No' 'Yes']\n",
            "['Sun' 'Sat' 'Thur' 'Fri']\n",
            "['Dinner' 'Lunch']\n",
            "[2 3 4 1 6 5]\n",
            "[ 8.49  3.45  7.   11.84  6.15  6.32  4.38  6.72  7.52  7.39  5.14  8.82\n",
            "  7.71  4.61  7.42 10.79  3.44  5.43  5.66  6.88  8.96 10.14  7.88  9.86\n",
            "  9.91  4.45  6.68  6.34 10.85  9.82  4.78  4.59  7.53  5.17  8.89  8.02\n",
            "  5.44  5.64  6.23 10.42  5.35  8.73  6.97  4.84  7.6   9.14 11.12  8.1\n",
            "  9.52  9.02  6.27  8.7   4.97  6.39  9.74  9.5  13.2   5.62 12.07  6.9\n",
            "  5.51  4.57  5.86  6.69  8.22  3.07 10.12  7.5   6.01  5.69 13.43 12.64\n",
            "  7.36  5.26  6.8  11.38  8.64  9.72  8.33 10.07 16.34  7.99  8.71  6.52\n",
            " 12.36 10.58 14.48 11.24  2.88  8.16 10.04 13.64  6.02 10.5   5.68  7.69\n",
            " 14.77 11.21 10.46  7.68 10.24 12.6   9.12  7.16  7.25 12.69 11.98  8.57\n",
            "  8.65  7.48  5.32  6.22  5.84  6.71  7.13  7.98  6.24  4.26  7.26  7.61\n",
            "  9.54  5.58  6.13  9.13  5.16  7.08  8.    6.58  8.74  5.72  8.24  4.51\n",
            "  4.18  6.21  5.94  4.89  3.76  7.04  6.56  5.75  6.14  4.94  5.97  8.03\n",
            "  6.25  6.7   4.12  5.38  6.33  5.4   8.76  8.17 10.38  7.93  5.3  16.94\n",
            "  7.9   3.62 15.92  8.41 16.45  8.94  7.24  4.8  17.32  8.66 11.66 15.12\n",
            "  5.79 20.27  4.14  6.09  6.05  7.7   7.84  9.9  14.22  7.74  8.29  3.78\n",
            " 10.78  6.5   6.76  6.37  8.2   5.13  5.49  8.86  9.68 12.14  6.38 10.02\n",
            "  6.47 12.08  6.64  9.39  6.45  5.63  5.8   3.87  7.54  6.08  8.58  5.33\n",
            "  8.14  5.04  5.11 11.06  6.    5.23  7.76  6.3  16.42 11.94 13.59 11.34\n",
            "  8.91]\n",
            "['Christy Cunningham' 'Douglas Tucker' 'Travis Walters' 'Nathaniel Harris'\n",
            " 'Tonya Carter' 'Erik Smith' 'Kristopher Johnson' 'Robert Buck'\n",
            " 'Joseph Mcdonald' 'Jerome Abbott' 'William Riley' 'Diane Macias'\n",
            " 'Chad Harrington' 'Joshua Jones' 'Vanessa Jones' 'Matthew Reilly'\n",
            " 'Elizabeth Foster' 'John Pittman' 'Laura Martinez' 'Timothy Oneal'\n",
            " 'Thomas Rice' 'Natalie Gardner' 'Ashley Shelton' 'Lance Peterson'\n",
            " 'Christopher Ross' 'Robert Perkins' 'Kyle Avery' 'Patrick Barber'\n",
            " 'David Collier' 'Melinda Murphy' 'Grant Hall' 'Danny Santiago'\n",
            " 'Amanda Wilson' 'Amber Francis' 'Jacob Castillo' 'Joseph Mullins'\n",
            " 'William Ford' 'Erin Lewis' 'Brandon Bradley' 'Mr. Brandon Berry'\n",
            " 'Adam Edwards' 'David Boyer' 'Bryan Brown' 'Christopher Spears'\n",
            " 'Todd Cooper' 'Richard Fitzgerald' 'Joshua Gilmore' 'James Barnes'\n",
            " 'Austin Fisher' 'William Roth' 'Jeremiah Neal' 'Jessica Ibarra'\n",
            " 'Emily Daniel' 'Curtis Morgan' 'Ronald Owens' 'Michael Hamilton'\n",
            " 'James Christensen DDS' 'Melody Simon' 'Troy Guerrero' 'Brian Ortiz'\n",
            " 'Anthony Mclean' 'Ryan Hernandez' 'Joseph Hart' 'Chad Hart'\n",
            " 'Michael Johnson' 'Justin Dixon' 'Rachel Vaughn' 'Tiffany Brock'\n",
            " 'Mr. Travis Bailey Jr.' 'Adam Hall' 'Max Brown' 'Teresa Fisher'\n",
            " 'Victoria Obrien MD' 'Julie Holmes' 'Ashley Harris' 'Kenneth Hayes'\n",
            " 'Mark Smith' 'John Davis' 'Chris Hahn' 'Brian Diaz' 'Louis Torres'\n",
            " 'William Martin' 'Julie Moody' 'Daniel Murphy' 'Jason Jones'\n",
            " 'Shawna Cook' 'Derek Thomas' 'Donald Williams' 'Roger Taylor'\n",
            " 'Keith Lewis' 'Daniel Mason' 'Earl Horn' 'Leah Ramirez' 'Natalie Nguyen'\n",
            " 'Jamie Garza' 'Aaron Bentley' 'Eric Carter' 'Eric Herrera' 'Michael Li'\n",
            " 'Edward Carter' 'Lori Lynch' 'Tiffany Colon' 'Heather Cohen'\n",
            " 'Kathleen Hawkins' 'Gabrielle Frederick' 'David Price' 'Karl Mcdaniel'\n",
            " 'Jason Mullen' 'Steven Grant' 'Amanda Anderson' 'James Sanchez'\n",
            " 'Terri Jones' 'Jeff Lopez' 'John Joyce' 'Katie Smith' 'Kayla Stone'\n",
            " 'Shawn Blake' 'Linda Zhang' 'Dr. Caroline Tucker' 'Melanie Jordan'\n",
            " 'Kenneth Goodman' 'Laura Garcia' 'Perry Garcia' 'Christopher Lang'\n",
            " 'Jordan Diaz' 'Angela Sanchez' 'Mario Bradshaw' 'Jessica Simmons'\n",
            " 'Christine Perkins' 'Raymond Torres' 'Seth Sexton' 'Ashley Burke'\n",
            " 'Taylor Gonzalez' 'Kaitlin Wolf' 'Karen Rodriguez' 'Rebecca Harris'\n",
            " 'Donna Kelly' 'Vanessa Morris' 'Jason Burgess' 'Lindsey Meyer'\n",
            " 'Kayla Rios' 'Steven Carlson' 'Eric Andrews' 'Regina Jones' 'Linda Jones'\n",
            " 'Amy Young' 'Kelly Estrada' 'Annette Cunningham' 'David Stewart'\n",
            " 'Daniel Robbins' 'Luke Rice' 'Jason Arnold' 'Gregory Smith'\n",
            " 'Todd Patterson' 'James Smith' 'Madison Wilson' 'Ryan Gonzales'\n",
            " 'Laura Robles' 'Ashley Boyd' 'Christopher Soto' 'Travis Gonzalez'\n",
            " 'Brandon Oconnor' 'Jennifer Baird' 'Charles Newton' 'Audrey Griffin'\n",
            " 'Jacob Hansen' 'Gordon Lane' 'Michael Lawson' 'Sara Jimenez' 'Amy Hill'\n",
            " 'Gregory Clark' 'David Hall' 'Larry White' 'Scott Perez' 'Brian Miles'\n",
            " 'Nathan Reynolds' 'Walter Simmons' 'John Dudley' 'Melanie Gray'\n",
            " 'Brian Bailey' 'James Hebert DDS' 'Jason Cox' 'Jose Parsons'\n",
            " 'Dr. Michael James' 'Stephen Cox' 'Joseph Howell' 'Heidi Atkinson'\n",
            " 'David Barrett' 'Glenda Wiggins' 'Richard Stevens' 'Riley Barnes'\n",
            " 'Kristy Boyd' 'Dr. Jeffrey Rich' 'Raymond Sullivan' 'Benjamin Weber'\n",
            " 'Michael White' 'Eric Martin' 'Brooke Soto' 'Katherine Bond'\n",
            " 'Joseph Murphy MD' 'Jason Conrad' 'Abigail Parks' 'Ashley Shaw'\n",
            " 'Toni Brooks' 'Scott Kim' 'Carly Reyes' 'Daniel Owens' 'Ricky Ramirez'\n",
            " 'Jason Carter' 'Sarah Cunningham' 'Shawn Mendoza' 'Christopher Li'\n",
            " 'Alex Williamson' 'Robin Andersen' 'Marissa Jackson' 'Jessica Owen'\n",
            " 'Shawn Barnett PhD' 'Gary Orr' 'Nicholas Archer' 'Shelby House'\n",
            " 'Ricky Johnson' 'Leslie Kaufman' 'Jason Lawrence' 'Mary Rivera'\n",
            " 'Ronald Vaughn DVM' 'Whitney Arnold' 'Ruth Weiss' 'Robert Bradley'\n",
            " 'Glenn Jones' 'Jennifer Russell' 'Michael Osborne' 'Jason Parks'\n",
            " 'James Taylor' 'Paul Novak' 'Tracy Douglas' 'Sean Gonzalez'\n",
            " 'Matthew Myers' 'Thomas Brown' 'Kimberly Crane' 'Michael Avila'\n",
            " 'Monica Sanders' 'Keith Wong' 'Dennis Dixon' 'Michelle Hardin']\n",
            "[3560325168603410 4478071379779230 6011812112971322 4676137647685994\n",
            " 4832732618637221  213140353657882 2223727524230344 3514785077705092\n",
            " 3522866365840377 3532124519049786     566287581219 4577817359320969\n",
            "     577040572932 6011163105616890   30016702287574  180073029785069\n",
            " 4240025044626033 6521340257218708   30422275171379 6568069240986485\n",
            " 4403296224639756 5448125351489749 3524119516293213 3542584061609808\n",
            "   36739148167928   30502930499388 6531339539615499   30155551880343\n",
            " 5529694315416009 5489272944576051   30196517521548     630415546013\n",
            "  213186304291560  377742985258914 3551492000704805 5519770449260299\n",
            " 3527691170179398 5161695527390786 4427601595688633 6011525851069856\n",
            " 3544447755679420 3536678244278149   36231182760859 4387671121369212\n",
            "     503846761263  375156610762053    4292072734899 3552002592874186\n",
            " 6011481668986587 6573923967142503 2225400829691416    4999759463713\n",
            " 4291280793094374 4628628020417301 6569607991983380 6502227786581768\n",
            "  349793629453226 4745394421258160 3560782621035582 6596453823950595\n",
            "  347614304015027    4766834726806  180046232326178     580171498976\n",
            " 2222114458088108  180021262464926 3569262692675583 4359488526995267\n",
            "      60406789937 4700924377057571  213139760497718 5442222963796367\n",
            "    4216245673726 5418689346409571     501828723483  213142079731108\n",
            "     676188485350   30344778738589 3591887177014031 4759290988169738\n",
            "   38848369968464 4550549048402707     630413282843 5356177501009133\n",
            " 4442984204923315 6011787464177340  213161022097557 5363745772301404\n",
            "    4410248629955 4356005144080422 3597456900644078 6011849326227398\n",
            " 3508911676966392 5181236182893396     676318332068  180026611638690\n",
            " 4563054452787961     580116092652 4831801127457917  347435564751626\n",
            "   38558279384492 6011012799432041  379771118886604  348009865484721\n",
            " 4013010878990106    4029957452720  180024452771522    4738781782868\n",
            " 4112810433473856  375638820334211  345243048851323 3559221007826887\n",
            " 3572865915176463 6565964211060570 5400160161311292  379494319310858\n",
            " 4689079711213722 3560509622598239     502047186908     676212062720\n",
            "    4891259691010 5181484390945653  180034646320219 4820629318698319\n",
            " 4472778228206399     503857080488 4524404353861811  213102478792200\n",
            " 3548391118913991    4855776744024  213113680829581 5394652998970066\n",
            " 6011990685390011     676348318145    4952604748911 4320272020376174\n",
            "  180048553626376  213189344156819 3561461821942363     676239597203\n",
            " 5233918213804470 3526515703718508 4356531761046453    4311048695487\n",
            " 6542729219645658    4285454264477      60463302327     675937746864\n",
            " 3578014604116399 4823139288341889 4813617017359506 3571825125296106\n",
            "    4292362333741 4416804908942159  213169731428229 4210875236164664\n",
            " 3523151482063321  213158685144262 3571088058115021   30501814271434\n",
            " 3527668419764685 4406882156920533 4227834176859693 5552793481414044\n",
            " 3500853929693258    4031116007387 4110599849536479 3566285921227119\n",
            "     502053147208 3536332481454019 5473850968388236     502004138207\n",
            "   30432617123103 3577115550328507 3586342145399277  370307040837149\n",
            " 6011481578696110 4565183162071073    4211808859168  346656312114848\n",
            "     676168737648 6556931703586223 4112207559459910    4718501859162\n",
            " 3547798222044029   30362407455623 4422858423131187 4792882899700988\n",
            "     578329325307 3560193117506187  180053549128800 4317015327600068\n",
            "    4737538358295  180068856139315     676210011505 4865390263095532\n",
            "   30442491190342 5544902205760175    4926725945192 6547218923471275\n",
            "    4581233003487 3586645396220590  180088043008041 3582289985920239\n",
            " 3570611756827620    4787787236486   38971087967574  347817964484033\n",
            " 4268942915626180  341876516331163   30184049218122 6011962464150569\n",
            "     676218815212     580140531089 4922302538691962    4726904879471\n",
            "    4590982568244   30324521283406  340517153733524     502097403252\n",
            "  213109508670736  379437981958785 3505302934650403 5343428579353069\n",
            "  341503466406403 3579111947217428 5268689490381635  213141668145910\n",
            "     502061651712    4793003293608    4258682154026    4812333796161\n",
            " 6011482917327995 6011698897610858 4097938155941930 3534021246117605\n",
            " 3543676378973965 4284722681265508     676184013727 5296068606052842\n",
            " 3506806155565404 6011891618747196    4375220550950 3511451626698139]\n",
            "['Sun2959' 'Sun4608' 'Sun4458' 'Sun5260' 'Sun2251' 'Sun9679' 'Sun5985'\n",
            " 'Sun8157' 'Sun6820' 'Sun3775' 'Sun2546' 'Sun6686' 'Sun1300' 'Sun2971'\n",
            " 'Sun3848' 'Sun1878' 'Sun9715' 'Sun2998' 'Sun2789' 'Sat9213' 'Sat1709'\n",
            " 'Sat9618' 'Sat9786' 'Sat239' 'Sat6236' 'Sat907' 'Sat6651' 'Sat394'\n",
            " 'Sat3697' 'Sat2467' 'Sat4099' 'Sat4947' 'Sat1327' 'Sat6649' 'Sat8124'\n",
            " 'Sat632' 'Sat9139' 'Sat6406' 'Sat4056' 'Sat6373' 'Sat8549' 'Sun9460'\n",
            " 'Sun1699' 'Sun3279' 'Sun2274' 'Sun8643' 'Sun7097' 'Sun9677' 'Sun4142'\n",
            " 'Sun9774' 'Sun2021' 'Sun4474' 'Sun6165' 'Sun4561' 'Sun9470' 'Sun1118'\n",
            " 'Sat8903' 'Sat8980' 'Sat6683' 'Sat8139' 'Sat2353' 'Sat3030' 'Sat2265'\n",
            " 'Sat4178' 'Sat1667' 'Sat6840' 'Sat4750' 'Sat3455' 'Sat561' 'Sat855'\n",
            " 'Sat2100' 'Sat3469' 'Sat1967' 'Sat6065' 'Sat6548' 'Sat5056' 'Sat9908'\n",
            " 'Thur4924' 'Thur2863' 'Thur9501' 'Thur6453' 'Thur8232' 'Thur4909'\n",
            " 'Thur8801' 'Thur1944' 'Thur7972' 'Thur6793' 'Thur3636' 'Thur9003'\n",
            " 'Thur6273' 'Fri4175' 'Fri5700' 'Fri3780' 'Fri6963' 'Fri2318' 'Fri9628'\n",
            " 'Fri3159' 'Fri9268' 'Fri144' 'Fri5575' 'Fri4106' 'Fri8382' 'Sat6240'\n",
            " 'Sat1015' 'Sat3194' 'Sat5106' 'Sat7865' 'Sat5196' 'Sat6376' 'Sat2614'\n",
            " 'Sat6801' 'Sat4801' 'Sun591' 'Sun1885' 'Sun6492' 'Sun8746' 'Sun22'\n",
            " 'Thur9593' 'Thur8084' 'Thur8063' 'Thur8289' 'Thur2158' 'Thur3579'\n",
            " 'Thur1992' 'Thur208' 'Thur3948' 'Thur6719' 'Thur1512' 'Thur8551'\n",
            " 'Thur9424' 'Thur1446' 'Thur9005' 'Thur7783' 'Thur1561' 'Thur75'\n",
            " 'Thur6600' 'Thur1393' 'Thur3890' 'Thur2710' 'Thur6245' 'Thur3906'\n",
            " 'Thur1025' 'Thur3621' 'Thur6179' 'Thur9002' 'Thur9331' 'Thur3941'\n",
            " 'Thur4780' 'Thur7276' 'Thur6321' 'Sun8863' 'Sun2127' 'Sun5205' 'Sun8670'\n",
            " 'Sun5814' 'Sun9176' 'Sun7518' 'Sun7015' 'Sun982' 'Sun1781' 'Sun245'\n",
            " 'Sun5879' 'Sun5521' 'Sun8594' 'Sun444' 'Sun9043' 'Sun6738' 'Sun3719'\n",
            " 'Sat9795' 'Sat1788' 'Sat1954' 'Sat6750' 'Sun9209' 'Sun9335' 'Sun7621'\n",
            " 'Sun5109' 'Sun5961' 'Sun6203' 'Sun4598' 'Sun9851' 'Sun7544' 'Sun3402'\n",
            " 'Sun2337' 'Sun6059' 'Sun5140' 'Sun5842' 'Sun4254' 'Sun9987' 'Sun430'\n",
            " 'Sun1821' 'Sun5104' 'Thur967' 'Thur4334' 'Thur606' 'Thur9318' 'Thur697'\n",
            " 'Thur9862' 'Thur9313' 'Thur437' 'Thur2428' 'Thur6048' 'Thur2544'\n",
            " 'Thur1301' 'Thur7770' 'Thur2160' 'Sat1' 'Sat4505' 'Sat6048' 'Sat1274'\n",
            " 'Sat8361' 'Sat6735' 'Sat4590' 'Sat1374' 'Sat3374' 'Sat6983' 'Sat7320'\n",
            " 'Sat8489' 'Sat4772' 'Sat8863' 'Fri4607' 'Fri7511' 'Fri6624' 'Fri6014'\n",
            " 'Fri5959' 'Fri6665' 'Fri6359' 'Sat4319' 'Sat2937' 'Sat3943' 'Sat7872'\n",
            " 'Sat6334' 'Sat2124' 'Sat1467' 'Sat7220' 'Sat4615' 'Sat5032' 'Sat2929'\n",
            " 'Sat9777' 'Sat2657' 'Sat1766' 'Sat3880' 'Sat17' 'Thur672']\n"
          ]
        }
      ]
    },
    {
      "cell_type": "code",
      "source": [
        "a=pd.DataFrame(df1['day'].value_counts())\n",
        "print(a)\n",
        "a.reset_index(inplace=True)\n",
        "print(a)"
      ],
      "metadata": {
        "colab": {
          "base_uri": "https://localhost:8080/"
        },
        "id": "B_tMBU75Y6l9",
        "outputId": "3944ee04-d24f-4f9c-d016-cf318301b240"
      },
      "execution_count": null,
      "outputs": [
        {
          "output_type": "stream",
          "name": "stdout",
          "text": [
            "      day\n",
            "Sat    87\n",
            "Sun    76\n",
            "Thur   62\n",
            "Fri    19\n",
            "  index  day\n",
            "0   Sat   87\n",
            "1   Sun   76\n",
            "2  Thur   62\n",
            "3   Fri   19\n"
          ]
        }
      ]
    },
    {
      "cell_type": "code",
      "source": [
        "plt.bar(a['index'],a['day'])"
      ],
      "metadata": {
        "colab": {
          "base_uri": "https://localhost:8080/",
          "height": 282
        },
        "id": "zP2uVP71cYrp",
        "outputId": "9e78ae1d-911e-4353-d552-61509b41985e"
      },
      "execution_count": null,
      "outputs": [
        {
          "output_type": "execute_result",
          "data": {
            "text/plain": [
              "<BarContainer object of 4 artists>"
            ]
          },
          "metadata": {},
          "execution_count": 29
        },
        {
          "output_type": "display_data",
          "data": {
            "text/plain": [
              "<Figure size 432x288 with 1 Axes>"
            ],
            "image/png": "[encoded data removed]"
          },
          "metadata": {
            "needs_background": "light"
          }
        }
      ]
    },
    {
      "cell_type": "code",
      "source": [
        "plt.bar(df1['day'].value_counts().index,df1['day'].value_counts().values)"
      ],
      "metadata": {
        "colab": {
          "base_uri": "https://localhost:8080/",
          "height": 282
        },
        "id": "xqmhYNM2fQbi",
        "outputId": "3db578af-b490-481e-f509-be4b0e6162d2"
      },
      "execution_count": null,
      "outputs": [
        {
          "output_type": "execute_result",
          "data": {
            "text/plain": [
              "<BarContainer object of 4 artists>"
            ]
          },
          "metadata": {},
          "execution_count": 31
        },
        {
          "output_type": "display_data",
          "data": {
            "text/plain": [
              "<Figure size 432x288 with 1 Axes>"
            ],
            "image/png": "[encoded data removed]"
          },
          "metadata": {
            "needs_background": "light"
          }
        }
      ]
    },
    {
      "cell_type": "code",
      "source": [
        "a.plot(kind='bar',x='index',y='day',colormap='icefire')"
      ],
      "metadata": {
        "colab": {
          "base_uri": "https://localhost:8080/",
          "height": 309
        },
        "id": "5ZtHkJo6hj-f",
        "outputId": "c7fd1a20-a6fa-4059-87df-55634c4e1c2b"
      },
      "execution_count": null,
      "outputs": [
        {
          "output_type": "execute_result",
          "data": {
            "text/plain": [
              "<matplotlib.axes._subplots.AxesSubplot at 0x7f3b2e4dbc10>"
            ]
          },
          "metadata": {},
          "execution_count": 32
        },
        {
          "output_type": "display_data",
          "data": {
            "text/plain": [
              "<Figure size 432x288 with 1 Axes>"
            ],
            "image/png": "[encoded data removed]"
          },
          "metadata": {
            "needs_background": "light"
          }
        }
      ]
    },
    {
      "cell_type": "code",
      "source": [
        "a.plot(kind='bar',x='index',y='day',colormap='icefire')\n",
        "plt.xticks(rotation=0)"
      ],
      "metadata": {
        "colab": {
          "base_uri": "https://localhost:8080/",
          "height": 296
        },
        "id": "xywiwj3vyu8b",
        "outputId": "93bb9cdd-4ca9-46c3-b0c2-a872e024dcf5"
      },
      "execution_count": null,
      "outputs": [
        {
          "output_type": "execute_result",
          "data": {
            "text/plain": [
              "(array([0, 1, 2, 3]), <a list of 4 Text major ticklabel objects>)"
            ]
          },
          "metadata": {},
          "execution_count": 33
        },
        {
          "output_type": "display_data",
          "data": {
            "text/plain": [
              "<Figure size 432x288 with 1 Axes>"
            ],
            "image/png": "[encoded data removed]"
          },
          "metadata": {
            "needs_background": "light"
          }
        }
      ]
    },
    {
      "cell_type": "code",
      "source": [
        "sns.barplot(a['index'],a['day'])\n",
        "plt.show()"
      ],
      "metadata": {
        "colab": {
          "base_uri": "https://localhost:8080/",
          "height": 334
        },
        "id": "LKu3Ine4y5l5",
        "outputId": "dc65cbaa-de31-4678-ad77-e311950a3caa"
      },
      "execution_count": null,
      "outputs": [
        {
          "output_type": "stream",
          "name": "stderr",
          "text": [
            "/usr/local/lib/python3.7/dist-packages/seaborn/_decorators.py:43: FutureWarning: Pass the following variables as keyword args: x, y. From version 0.12, the only valid positional argument will be `data`, and passing other arguments without an explicit keyword will result in an error or misinterpretation.\n",
            "  FutureWarning\n"
          ]
        },
        {
          "output_type": "display_data",
          "data": {
            "text/plain": [
              "<Figure size 432x288 with 1 Axes>"
            ],
            "image/png": "[encoded data removed]"
          },
          "metadata": {
            "needs_background": "light"
          }
        }
      ]
    },
    {
      "cell_type": "code",
      "source": [
        "plt.pie(a['day'],labels=a['index'],autopct='%1.2f',explode=[0.2,0,0,0])\n",
        "plt.show()"
      ],
      "metadata": {
        "colab": {
          "base_uri": "https://localhost:8080/",
          "height": 248
        },
        "id": "9EmRkRe_zQcL",
        "outputId": "f9c1a7e2-f23c-4af1-ed49-a3a4ab680be2"
      },
      "execution_count": null,
      "outputs": [
        {
          "output_type": "display_data",
          "data": {
            "text/plain": [
              "<Figure size 432x288 with 1 Axes>"
            ],
            "image/png": "[encoded data removed]"
          },
          "metadata": {}
        }
      ]
    },
    {
      "cell_type": "code",
      "source": [
        "a.plot(kind='pie',y='day',labels=a['index'],autopct='%1.2f')\n",
        "plt.show()"
      ],
      "metadata": {
        "colab": {
          "base_uri": "https://localhost:8080/",
          "height": 248
        },
        "id": "QepjFWod1lYF",
        "outputId": "c4f5a420-ad1c-4f7f-a028-9858ea4419c4"
      },
      "execution_count": null,
      "outputs": [
        {
          "output_type": "display_data",
          "data": {
            "text/plain": [
              "<Figure size 432x288 with 1 Axes>"
            ],
            "image/png": "[encoded data removed]"
          },
          "metadata": {}
        }
      ]
    },
    {
      "cell_type": "code",
      "source": [
        "sns.distplot(df1['total_bill'])\n"
      ],
      "metadata": {
        "colab": {
          "base_uri": "https://localhost:8080/",
          "height": 354
        },
        "id": "01ZQfC821vUU",
        "outputId": "fa164326-0a56-4716-92ca-ac762e5f23dc"
      },
      "execution_count": null,
      "outputs": [
        {
          "output_type": "stream",
          "name": "stderr",
          "text": [
            "/usr/local/lib/python3.7/dist-packages/seaborn/distributions.py:2619: FutureWarning: `distplot` is a deprecated function and will be removed in a future version. Please adapt your code to use either `displot` (a figure-level function with similar flexibility) or `histplot` (an axes-level function for histograms).\n",
            "  warnings.warn(msg, FutureWarning)\n"
          ]
        },
        {
          "output_type": "execute_result",
          "data": {
            "text/plain": [
              "<matplotlib.axes._subplots.AxesSubplot at 0x7f3b2df0a7d0>"
            ]
          },
          "metadata": {},
          "execution_count": 42
        },
        {
          "output_type": "display_data",
          "data": {
            "text/plain": [
              "<Figure size 432x288 with 1 Axes>"
            ],
            "image/png": "[encoded data removed]"
          },
          "metadata": {
            "needs_background": "light"
          }
        }
      ]
    }
  ]
}